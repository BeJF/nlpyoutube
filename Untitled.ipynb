{
 "cells": [
  {
   "cell_type": "code",
   "execution_count": 58,
   "metadata": {},
   "outputs": [],
   "source": [
    "import nltk\n",
    "from nltk.tokenize import sent_tokenize, word_tokenize\n",
    "from nltk.corpus import stopwords\n",
    "from nltk.stem import PorterStemmer\n",
    "from sklearn.feature_extraction.text import CountVectorizer\n",
    "from sklearn.feature_extraction.text import TfidfTransformer\n",
    "from sklearn.feature_extraction.text import TfidfVectorizer"
   ]
  },
  {
   "cell_type": "code",
   "execution_count": 66,
   "metadata": {},
   "outputs": [],
   "source": [
    "with open(\"comments.txt\", \"r\") as f :\n",
    "    all_comments=f.read().splitlines()\n",
    "#all_comments = all_comments[0:100]"
   ]
  },
  {
   "cell_type": "code",
   "execution_count": 88,
   "metadata": {},
   "outputs": [
    {
     "name": "stdout",
     "output_type": "stream",
     "text": [
      "8105\n",
      "Samsung is really a much better company than apple......when apple gives u low budget stuff, it's really cheap.....the iphone xr has a low res screen, an iphone 4 typa screen....like WTF??? the s10e is fantastic.....really if u buy it, u have an upgrade on the s9......\n",
      "['Samsung is really a much better company than apple', '', '', '', '', '', \"when apple gives u low budget stuff, it's really cheap\", '', '', '', '', 'the iphone xr has a low res screen, an iphone 4 typa screen', '', '', '', 'like WTF??? the s10e is fantastic', '', '', '', '', 'really if u buy it, u have an upgrade on the s9', '', '', '', '', '', '']\n",
      "Guys dont trust samsung.....i am usong the s7 edge....the performance battery life sucks after just 2 years....though u pay more for the iPhone xr....I guess u could live with it for atleast the next 4 years....\n",
      "['Guys dont trust samsung', '', '', '', '', 'i am usong the s7 edge', '', '', '', 'the performance battery life sucks after just 2 years', '', '', '', 'though u pay more for the iPhone xr', '', '', '', 'I guess u could live with it for atleast the next 4 years', '', '', '', '']\n",
      "that robot arm  shots are epic......................... 00:57  to 01:01\n",
      "['that robot arm  shots are epic', '', '', '', '', '', '', '', '', '', '', '', '', '', '', '', '', '', '', '', '', '', '', '', '', ' 00:57  to 01:01']\n",
      "So.......do you know that samsung even launched m30 and a50 like great budget phones this year........if u knew about moto g5 which was budget phone.......hope u know abot these phones tooo......😅😅\n",
      "['So', '', '', '', '', '', '', 'do you know that samsung even launched m30 and a50 like great budget phones this year', '', '', '', '', '', '', '', 'if u knew about moto g5 which was budget phone', '', '', '', '', '', '', 'hope u know abot these phones tooo', '', '', '', '', '', '😅😅']\n",
      "Honestly.. yes. why not? This is the best deal out of the two. Most of the added features are just add-ons and \"may\" not be that necessary. You got the same processor and cameras.. who use telephoto anyway? battery life.. yeah. but, it is fair. I checked it out on samsung store and I think this targets a specific market.. like my GF who likes things simple and not too techy.. two selfie cameras? once uploaded on ig or fb, it automatically decreases in quality significantly.. so why bother.. right? and.. COLORS! ;)\n",
      "['Honestly', '', ' yes', ' why not? This is the best deal out of the two', ' Most of the added features are just add-ons and \"may\" not be that necessary', ' You got the same processor and cameras', '', ' who use telephoto anyway? battery life', '', ' yeah', ' but, it is fair', ' I checked it out on samsung store and I think this targets a specific market', '', ' like my GF who likes things simple and not too techy', '', ' two selfie cameras? once uploaded on ig or fb, it automatically decreases in quality significantly', '', ' so why bother', '', ' right? and', '', ' COLORS! ;)']\n",
      "The big three differences is the camera, the fingerprint reader, the display, and the price.............................................................. Yup yeah that is right.\n",
      "['The big three differences is the camera, the fingerprint reader, the display, and the price', '', '', '', '', '', '', '', '', '', '', '', '', '', '', '', '', '', '', '', '', '', '', '', '', '', '', '', '', '', '', '', '', '', '', '', '', '', '', '', '', '', '', '', '', '', '', '', '', '', '', '', '', '', '', '', '', '', '', '', '', '', ' Yup yeah that is right', '']\n",
      "7661\n",
      "[(5, 543), (4, 526), (6, 524), (3, 471), (7, 461), (0, 444), (8, 431), (9, 382), (2, 357), (10, 331), (12, 292), (11, 287), (1, 281), (13, 222), (14, 209), (15, 200), (16, 167), (17, 157), (19, 133), (18, 122), (20, 121), (21, 105), (23, 95), (22, 80), (24, 73), (27, 73), (25, 72), (26, 64), (31, 50), (32, 50), (30, 50), (28, 48), (29, 46), (33, 41), (35, 32), (36, 28), (34, 28), (38, 26), (37, 22), (45, 22), (44, 21), (39, 21), (42, 20), (43, 20), (47, 19), (40, 18), (46, 14), (41, 14), (49, 10), (48, 8)]\n",
      "50\n",
      "<FreqDist with 50 samples and 7831 outcomes>\n"
     ]
    },
    {
     "data": {
      "image/png": "[encoded data removed]",
      "text/plain": [
       "<Figure size 432x288 with 1 Axes>"
      ]
     },
     "metadata": {
      "needs_background": "light"
     },
     "output_type": "display_data"
    }
   ],
   "source": [
    "test = []\n",
    "lenghts = [] \n",
    "print(len(all_comments))\n",
    "for comment in all_comments :\n",
    "    tokenized = word_tokenize(comment)\n",
    "    test1 = comment.split('.')\n",
    "    if len(test1) > 20 :\n",
    "        print(comment)\n",
    "        print(test1)\n",
    "    if len(tokenized) < 50 :\n",
    "        lenghts.append(len(tokenized))\n",
    "    if len(tokenized) > 0 :\n",
    "        test.append(comment)\n",
    "    #if len(tokenized) > 20 :\n",
    "    #    print(\"here :\", comment)\n",
    "    #else :\n",
    "        #print(comment)\n",
    "print(len(test))\n",
    "\n",
    "distribution = nltk.FreqDist(lenghts)\n",
    "len_list = len(distribution)\n",
    "print(distribution.most_common(len_list))\n",
    "print(len_list)\n",
    "print(distribution)\n",
    "#print(test)\n",
    "plt.hist(lenghts, 50, facecolor='green')\n",
    "plt.show()"
   ]
  },
  {
   "cell_type": "code",
   "execution_count": 28,
   "metadata": {},
   "outputs": [],
   "source": [
    "def filter_tokenize(comments) :\n",
    "    #could add stemming\n",
    "    comments_tokenized = []\n",
    "    for comment in comments :\n",
    "        tokenized = word_tokenize(comment)\n",
    "        #filtered = [w.lower() for w in tokenized if not w.lower() in stop_words and w.isalpha()]\n",
    "        #comments_tokenized.append(filtered)\n",
    "    return (comments_tokenized)"
   ]
  },
  {
   "cell_type": "code",
   "execution_count": 29,
   "metadata": {},
   "outputs": [],
   "source": [
    "#stop_words = set(stopwords.words(\"english\"))"
   ]
  },
  {
   "cell_type": "code",
   "execution_count": 30,
   "metadata": {},
   "outputs": [],
   "source": [
    "#print(all_comments)\n"
   ]
  },
  {
   "cell_type": "code",
   "execution_count": 48,
   "metadata": {},
   "outputs": [],
   "source": [
    "#for comment in all_comments :\n",
    " #   lenght = len(comment)\n",
    "  #  #print(lenght)\n",
    "   # if lenght <= 1 :\n",
    "    #    all_comments.remove(comment)\n",
    "    #if lenght >= 50 :\n",
    "        #print(comment)\n",
    "#print(len(all_comments))"
   ]
  },
  {
   "cell_type": "code",
   "execution_count": 17,
   "metadata": {},
   "outputs": [],
   "source": [
    "tfidf_vectorizer = TfidfVectorizer(max_df=0.8, max_features=200000,\n",
    "                                 min_df=0.025, stop_words=\"english\",\n",
    "                                 use_idf=True) #tokenizer=filter_tokenize, ngram_range=(1,3)\n",
    "\n",
    "tfidf_matrix = tfidf_vectorizer.fit_transform(all_comments)"
   ]
  },
  {
   "cell_type": "code",
   "execution_count": 18,
   "metadata": {},
   "outputs": [
    {
     "name": "stdout",
     "output_type": "stream",
     "text": [
      "(100, 54)\n"
     ]
    }
   ],
   "source": [
    "print(tfidf_matrix.shape)"
   ]
  },
  {
   "cell_type": "code",
   "execution_count": 19,
   "metadata": {},
   "outputs": [
    {
     "name": "stdout",
     "output_type": "stream",
     "text": [
      "['700', 'android', 'battery', 'better', 'big', 'bought', 'brand', 'brownlee', 'buy', 'camera', 'cheap', 'compared', 'country', 'does', 'don', 'dont', 'experience', 'flagship', 'flagships', 'getting', 'good', 'got', 'ios', 'iphone', 'just', 'know', 'like', 'look', 'looks', 'love', 'mkbhd', 'mobile', 'need', 'new', 'note', 'phone', 'phones', 'plus', 'premium', 'price', 'review', 's10', 's10e', 'samsung', 'screen', 'shit', 'size', 'smaller', 'software', 'stands', 'think', 'wallpaper', 'xr', 'xs']\n"
     ]
    }
   ],
   "source": [
    "terms = tfidf_vectorizer.get_feature_names()\n",
    "print(terms)"
   ]
  },
  {
   "cell_type": "code",
   "execution_count": 20,
   "metadata": {},
   "outputs": [],
   "source": [
    "from sklearn.metrics.pairwise import cosine_similarity\n",
    "dist = 1 - cosine_similarity(tfidf_matrix)"
   ]
  },
  {
   "cell_type": "code",
   "execution_count": 21,
   "metadata": {},
   "outputs": [],
   "source": [
    "from scipy.cluster.hierarchy import ward, dendrogram\n",
    "\n",
    "linkage_matrix = ward(dist) #define the linkage_matrix using ward clustering pre-computed distances"
   ]
  },
  {
   "cell_type": "code",
   "execution_count": 34,
   "metadata": {},
   "outputs": [
    {
     "ename": "IndexError",
     "evalue": "list index out of range",
     "output_type": "error",
     "traceback": [
      "\u001b[0;31m---------------------------------------------------------------------------\u001b[0m",
      "\u001b[0;31mIndexError\u001b[0m                                Traceback (most recent call last)",
      "\u001b[0;32m<ipython-input-34-f5c9b4edeb81>\u001b[0m in \u001b[0;36m<module>\u001b[0;34m\u001b[0m\n\u001b[1;32m      1\u001b[0m \u001b[0;32mimport\u001b[0m \u001b[0mmatplotlib\u001b[0m\u001b[0;34m.\u001b[0m\u001b[0mpyplot\u001b[0m \u001b[0;32mas\u001b[0m \u001b[0mplt\u001b[0m\u001b[0;34m\u001b[0m\u001b[0;34m\u001b[0m\u001b[0m\n\u001b[1;32m      2\u001b[0m \u001b[0mfig\u001b[0m\u001b[0;34m,\u001b[0m \u001b[0max\u001b[0m \u001b[0;34m=\u001b[0m \u001b[0mplt\u001b[0m\u001b[0;34m.\u001b[0m\u001b[0msubplots\u001b[0m\u001b[0;34m(\u001b[0m\u001b[0mfigsize\u001b[0m\u001b[0;34m=\u001b[0m\u001b[0;34m(\u001b[0m\u001b[0;36m15\u001b[0m\u001b[0;34m,\u001b[0m \u001b[0;36m20\u001b[0m\u001b[0;34m)\u001b[0m\u001b[0;34m)\u001b[0m \u001b[0;31m# set size\u001b[0m\u001b[0;34m\u001b[0m\u001b[0;34m\u001b[0m\u001b[0m\n\u001b[0;32m----> 3\u001b[0;31m \u001b[0max\u001b[0m \u001b[0;34m=\u001b[0m \u001b[0mdendrogram\u001b[0m\u001b[0;34m(\u001b[0m\u001b[0mlinkage_matrix\u001b[0m\u001b[0;34m,\u001b[0m \u001b[0morientation\u001b[0m\u001b[0;34m=\u001b[0m\u001b[0;34m\"right\"\u001b[0m\u001b[0;34m,\u001b[0m \u001b[0mlabels\u001b[0m\u001b[0;34m=\u001b[0m\u001b[0mall_comments\u001b[0m\u001b[0;34m[\u001b[0m\u001b[0;36m0\u001b[0m\u001b[0;34m:\u001b[0m\u001b[0;36m1000\u001b[0m\u001b[0;34m]\u001b[0m\u001b[0;34m)\u001b[0m\u001b[0;34m;\u001b[0m \u001b[0;31m#, labels=titles\u001b[0m\u001b[0;34m\u001b[0m\u001b[0;34m\u001b[0m\u001b[0m\n\u001b[0m\u001b[1;32m      4\u001b[0m \u001b[0;34m\u001b[0m\u001b[0m\n\u001b[1;32m      5\u001b[0m plt.tick_params(\\\n",
      "\u001b[0;32m~/Library/Python/3.7/lib/python/site-packages/scipy/cluster/hierarchy.py\u001b[0m in \u001b[0;36mdendrogram\u001b[0;34m(Z, p, truncate_mode, color_threshold, get_leaves, orientation, labels, count_sort, distance_sort, show_leaf_counts, no_plot, no_labels, leaf_font_size, leaf_rotation, leaf_label_func, show_contracted, link_color_func, ax, above_threshold_color)\u001b[0m\n\u001b[1;32m   3393\u001b[0m         \u001b[0mcontraction_marks\u001b[0m\u001b[0;34m=\u001b[0m\u001b[0mcontraction_marks\u001b[0m\u001b[0;34m,\u001b[0m\u001b[0;34m\u001b[0m\u001b[0;34m\u001b[0m\u001b[0m\n\u001b[1;32m   3394\u001b[0m         \u001b[0mlink_color_func\u001b[0m\u001b[0;34m=\u001b[0m\u001b[0mlink_color_func\u001b[0m\u001b[0;34m,\u001b[0m\u001b[0;34m\u001b[0m\u001b[0;34m\u001b[0m\u001b[0m\n\u001b[0;32m-> 3395\u001b[0;31m         above_threshold_color=above_threshold_color)\n\u001b[0m\u001b[1;32m   3396\u001b[0m \u001b[0;34m\u001b[0m\u001b[0m\n\u001b[1;32m   3397\u001b[0m     \u001b[0;32mif\u001b[0m \u001b[0;32mnot\u001b[0m \u001b[0mno_plot\u001b[0m\u001b[0;34m:\u001b[0m\u001b[0;34m\u001b[0m\u001b[0;34m\u001b[0m\u001b[0m\n",
      "\u001b[0;32m~/Library/Python/3.7/lib/python/site-packages/scipy/cluster/hierarchy.py\u001b[0m in \u001b[0;36m_dendrogram_calculate_info\u001b[0;34m(Z, p, truncate_mode, color_threshold, get_leaves, orientation, labels, count_sort, distance_sort, show_leaf_counts, i, iv, ivl, n, icoord_list, dcoord_list, lvs, mhr, current_color, color_list, currently_below_threshold, leaf_label_func, level, contraction_marks, link_color_func, above_threshold_color)\u001b[0m\n\u001b[1;32m   3679\u001b[0m             \u001b[0mlevel\u001b[0m\u001b[0;34m=\u001b[0m\u001b[0mlevel\u001b[0m \u001b[0;34m+\u001b[0m \u001b[0;36m1\u001b[0m\u001b[0;34m,\u001b[0m \u001b[0mcontraction_marks\u001b[0m\u001b[0;34m=\u001b[0m\u001b[0mcontraction_marks\u001b[0m\u001b[0;34m,\u001b[0m\u001b[0;34m\u001b[0m\u001b[0;34m\u001b[0m\u001b[0m\n\u001b[1;32m   3680\u001b[0m             \u001b[0mlink_color_func\u001b[0m\u001b[0;34m=\u001b[0m\u001b[0mlink_color_func\u001b[0m\u001b[0;34m,\u001b[0m\u001b[0;34m\u001b[0m\u001b[0;34m\u001b[0m\u001b[0m\n\u001b[0;32m-> 3681\u001b[0;31m             above_threshold_color=above_threshold_color)\n\u001b[0m\u001b[1;32m   3682\u001b[0m \u001b[0;34m\u001b[0m\u001b[0m\n\u001b[1;32m   3683\u001b[0m     \u001b[0mmax_dist\u001b[0m \u001b[0;34m=\u001b[0m \u001b[0mmax\u001b[0m\u001b[0;34m(\u001b[0m\u001b[0muamd\u001b[0m\u001b[0;34m,\u001b[0m \u001b[0mubmd\u001b[0m\u001b[0;34m,\u001b[0m \u001b[0mh\u001b[0m\u001b[0;34m)\u001b[0m\u001b[0;34m\u001b[0m\u001b[0;34m\u001b[0m\u001b[0m\n",
      "\u001b[0;32m~/Library/Python/3.7/lib/python/site-packages/scipy/cluster/hierarchy.py\u001b[0m in \u001b[0;36m_dendrogram_calculate_info\u001b[0;34m(Z, p, truncate_mode, color_threshold, get_leaves, orientation, labels, count_sort, distance_sort, show_leaf_counts, i, iv, ivl, n, icoord_list, dcoord_list, lvs, mhr, current_color, color_list, currently_below_threshold, leaf_label_func, level, contraction_marks, link_color_func, above_threshold_color)\u001b[0m\n\u001b[1;32m   3646\u001b[0m             \u001b[0mlevel\u001b[0m\u001b[0;34m=\u001b[0m\u001b[0mlevel\u001b[0m \u001b[0;34m+\u001b[0m \u001b[0;36m1\u001b[0m\u001b[0;34m,\u001b[0m \u001b[0mcontraction_marks\u001b[0m\u001b[0;34m=\u001b[0m\u001b[0mcontraction_marks\u001b[0m\u001b[0;34m,\u001b[0m\u001b[0;34m\u001b[0m\u001b[0;34m\u001b[0m\u001b[0m\n\u001b[1;32m   3647\u001b[0m             \u001b[0mlink_color_func\u001b[0m\u001b[0;34m=\u001b[0m\u001b[0mlink_color_func\u001b[0m\u001b[0;34m,\u001b[0m\u001b[0;34m\u001b[0m\u001b[0;34m\u001b[0m\u001b[0m\n\u001b[0;32m-> 3648\u001b[0;31m             above_threshold_color=above_threshold_color)\n\u001b[0m\u001b[1;32m   3649\u001b[0m \u001b[0;34m\u001b[0m\u001b[0m\n\u001b[1;32m   3650\u001b[0m     \u001b[0mh\u001b[0m \u001b[0;34m=\u001b[0m \u001b[0mZ\u001b[0m\u001b[0;34m[\u001b[0m\u001b[0mi\u001b[0m \u001b[0;34m-\u001b[0m \u001b[0mn\u001b[0m\u001b[0;34m,\u001b[0m \u001b[0;36m2\u001b[0m\u001b[0;34m]\u001b[0m\u001b[0;34m\u001b[0m\u001b[0;34m\u001b[0m\u001b[0m\n",
      "\u001b[0;32m~/Library/Python/3.7/lib/python/site-packages/scipy/cluster/hierarchy.py\u001b[0m in \u001b[0;36m_dendrogram_calculate_info\u001b[0;34m(Z, p, truncate_mode, color_threshold, get_leaves, orientation, labels, count_sort, distance_sort, show_leaf_counts, i, iv, ivl, n, icoord_list, dcoord_list, lvs, mhr, current_color, color_list, currently_below_threshold, leaf_label_func, level, contraction_marks, link_color_func, above_threshold_color)\u001b[0m\n\u001b[1;32m   3679\u001b[0m             \u001b[0mlevel\u001b[0m\u001b[0;34m=\u001b[0m\u001b[0mlevel\u001b[0m \u001b[0;34m+\u001b[0m \u001b[0;36m1\u001b[0m\u001b[0;34m,\u001b[0m \u001b[0mcontraction_marks\u001b[0m\u001b[0;34m=\u001b[0m\u001b[0mcontraction_marks\u001b[0m\u001b[0;34m,\u001b[0m\u001b[0;34m\u001b[0m\u001b[0;34m\u001b[0m\u001b[0m\n\u001b[1;32m   3680\u001b[0m             \u001b[0mlink_color_func\u001b[0m\u001b[0;34m=\u001b[0m\u001b[0mlink_color_func\u001b[0m\u001b[0;34m,\u001b[0m\u001b[0;34m\u001b[0m\u001b[0;34m\u001b[0m\u001b[0m\n\u001b[0;32m-> 3681\u001b[0;31m             above_threshold_color=above_threshold_color)\n\u001b[0m\u001b[1;32m   3682\u001b[0m \u001b[0;34m\u001b[0m\u001b[0m\n\u001b[1;32m   3683\u001b[0m     \u001b[0mmax_dist\u001b[0m \u001b[0;34m=\u001b[0m \u001b[0mmax\u001b[0m\u001b[0;34m(\u001b[0m\u001b[0muamd\u001b[0m\u001b[0;34m,\u001b[0m \u001b[0mubmd\u001b[0m\u001b[0;34m,\u001b[0m \u001b[0mh\u001b[0m\u001b[0;34m)\u001b[0m\u001b[0;34m\u001b[0m\u001b[0;34m\u001b[0m\u001b[0m\n",
      "\u001b[0;32m~/Library/Python/3.7/lib/python/site-packages/scipy/cluster/hierarchy.py\u001b[0m in \u001b[0;36m_dendrogram_calculate_info\u001b[0;34m(Z, p, truncate_mode, color_threshold, get_leaves, orientation, labels, count_sort, distance_sort, show_leaf_counts, i, iv, ivl, n, icoord_list, dcoord_list, lvs, mhr, current_color, color_list, currently_below_threshold, leaf_label_func, level, contraction_marks, link_color_func, above_threshold_color)\u001b[0m\n\u001b[1;32m   3646\u001b[0m             \u001b[0mlevel\u001b[0m\u001b[0;34m=\u001b[0m\u001b[0mlevel\u001b[0m \u001b[0;34m+\u001b[0m \u001b[0;36m1\u001b[0m\u001b[0;34m,\u001b[0m \u001b[0mcontraction_marks\u001b[0m\u001b[0;34m=\u001b[0m\u001b[0mcontraction_marks\u001b[0m\u001b[0;34m,\u001b[0m\u001b[0;34m\u001b[0m\u001b[0;34m\u001b[0m\u001b[0m\n\u001b[1;32m   3647\u001b[0m             \u001b[0mlink_color_func\u001b[0m\u001b[0;34m=\u001b[0m\u001b[0mlink_color_func\u001b[0m\u001b[0;34m,\u001b[0m\u001b[0;34m\u001b[0m\u001b[0;34m\u001b[0m\u001b[0m\n\u001b[0;32m-> 3648\u001b[0;31m             above_threshold_color=above_threshold_color)\n\u001b[0m\u001b[1;32m   3649\u001b[0m \u001b[0;34m\u001b[0m\u001b[0m\n\u001b[1;32m   3650\u001b[0m     \u001b[0mh\u001b[0m \u001b[0;34m=\u001b[0m \u001b[0mZ\u001b[0m\u001b[0;34m[\u001b[0m\u001b[0mi\u001b[0m \u001b[0;34m-\u001b[0m \u001b[0mn\u001b[0m\u001b[0;34m,\u001b[0m \u001b[0;36m2\u001b[0m\u001b[0;34m]\u001b[0m\u001b[0;34m\u001b[0m\u001b[0;34m\u001b[0m\u001b[0m\n",
      "\u001b[0;32m~/Library/Python/3.7/lib/python/site-packages/scipy/cluster/hierarchy.py\u001b[0m in \u001b[0;36m_dendrogram_calculate_info\u001b[0;34m(Z, p, truncate_mode, color_threshold, get_leaves, orientation, labels, count_sort, distance_sort, show_leaf_counts, i, iv, ivl, n, icoord_list, dcoord_list, lvs, mhr, current_color, color_list, currently_below_threshold, leaf_label_func, level, contraction_marks, link_color_func, above_threshold_color)\u001b[0m\n\u001b[1;32m   3646\u001b[0m             \u001b[0mlevel\u001b[0m\u001b[0;34m=\u001b[0m\u001b[0mlevel\u001b[0m \u001b[0;34m+\u001b[0m \u001b[0;36m1\u001b[0m\u001b[0;34m,\u001b[0m \u001b[0mcontraction_marks\u001b[0m\u001b[0;34m=\u001b[0m\u001b[0mcontraction_marks\u001b[0m\u001b[0;34m,\u001b[0m\u001b[0;34m\u001b[0m\u001b[0;34m\u001b[0m\u001b[0m\n\u001b[1;32m   3647\u001b[0m             \u001b[0mlink_color_func\u001b[0m\u001b[0;34m=\u001b[0m\u001b[0mlink_color_func\u001b[0m\u001b[0;34m,\u001b[0m\u001b[0;34m\u001b[0m\u001b[0;34m\u001b[0m\u001b[0m\n\u001b[0;32m-> 3648\u001b[0;31m             above_threshold_color=above_threshold_color)\n\u001b[0m\u001b[1;32m   3649\u001b[0m \u001b[0;34m\u001b[0m\u001b[0m\n\u001b[1;32m   3650\u001b[0m     \u001b[0mh\u001b[0m \u001b[0;34m=\u001b[0m \u001b[0mZ\u001b[0m\u001b[0;34m[\u001b[0m\u001b[0mi\u001b[0m \u001b[0;34m-\u001b[0m \u001b[0mn\u001b[0m\u001b[0;34m,\u001b[0m \u001b[0;36m2\u001b[0m\u001b[0;34m]\u001b[0m\u001b[0;34m\u001b[0m\u001b[0;34m\u001b[0m\u001b[0m\n",
      "\u001b[0;32m~/Library/Python/3.7/lib/python/site-packages/scipy/cluster/hierarchy.py\u001b[0m in \u001b[0;36m_dendrogram_calculate_info\u001b[0;34m(Z, p, truncate_mode, color_threshold, get_leaves, orientation, labels, count_sort, distance_sort, show_leaf_counts, i, iv, ivl, n, icoord_list, dcoord_list, lvs, mhr, current_color, color_list, currently_below_threshold, leaf_label_func, level, contraction_marks, link_color_func, above_threshold_color)\u001b[0m\n\u001b[1;32m   3558\u001b[0m     \u001b[0;32mif\u001b[0m \u001b[0mi\u001b[0m \u001b[0;34m<\u001b[0m \u001b[0mn\u001b[0m\u001b[0;34m:\u001b[0m\u001b[0;34m\u001b[0m\u001b[0;34m\u001b[0m\u001b[0m\n\u001b[1;32m   3559\u001b[0m         _append_singleton_leaf_node(Z, p, n, level, lvs, ivl,\n\u001b[0;32m-> 3560\u001b[0;31m                                     leaf_label_func, i, labels)\n\u001b[0m\u001b[1;32m   3561\u001b[0m         \u001b[0;32mreturn\u001b[0m \u001b[0;34m(\u001b[0m\u001b[0miv\u001b[0m \u001b[0;34m+\u001b[0m \u001b[0;36m5.0\u001b[0m\u001b[0;34m,\u001b[0m \u001b[0;36m10.0\u001b[0m\u001b[0;34m,\u001b[0m \u001b[0;36m0.0\u001b[0m\u001b[0;34m,\u001b[0m \u001b[0;36m0.0\u001b[0m\u001b[0;34m)\u001b[0m\u001b[0;34m\u001b[0m\u001b[0;34m\u001b[0m\u001b[0m\n\u001b[1;32m   3562\u001b[0m \u001b[0;34m\u001b[0m\u001b[0m\n",
      "\u001b[0;32m~/Library/Python/3.7/lib/python/site-packages/scipy/cluster/hierarchy.py\u001b[0m in \u001b[0;36m_append_singleton_leaf_node\u001b[0;34m(Z, p, n, level, lvs, ivl, leaf_label_func, i, labels)\u001b[0m\n\u001b[1;32m   3428\u001b[0m             \u001b[0;31m# for the leaf nodes, use it.\u001b[0m\u001b[0;34m\u001b[0m\u001b[0;34m\u001b[0m\u001b[0;34m\u001b[0m\u001b[0m\n\u001b[1;32m   3429\u001b[0m             \u001b[0;32mif\u001b[0m \u001b[0mlabels\u001b[0m \u001b[0;32mis\u001b[0m \u001b[0;32mnot\u001b[0m \u001b[0;32mNone\u001b[0m\u001b[0;34m:\u001b[0m\u001b[0;34m\u001b[0m\u001b[0;34m\u001b[0m\u001b[0m\n\u001b[0;32m-> 3430\u001b[0;31m                 \u001b[0mivl\u001b[0m\u001b[0;34m.\u001b[0m\u001b[0mappend\u001b[0m\u001b[0;34m(\u001b[0m\u001b[0mlabels\u001b[0m\u001b[0;34m[\u001b[0m\u001b[0mint\u001b[0m\u001b[0;34m(\u001b[0m\u001b[0mi\u001b[0m \u001b[0;34m-\u001b[0m \u001b[0mn\u001b[0m\u001b[0;34m)\u001b[0m\u001b[0;34m]\u001b[0m\u001b[0;34m)\u001b[0m\u001b[0;34m\u001b[0m\u001b[0;34m\u001b[0m\u001b[0m\n\u001b[0m\u001b[1;32m   3431\u001b[0m             \u001b[0;32melse\u001b[0m\u001b[0;34m:\u001b[0m\u001b[0;34m\u001b[0m\u001b[0;34m\u001b[0m\u001b[0m\n\u001b[1;32m   3432\u001b[0m                 \u001b[0;31m# Otherwise, use the id as the label for the leaf.x\u001b[0m\u001b[0;34m\u001b[0m\u001b[0;34m\u001b[0m\u001b[0;34m\u001b[0m\u001b[0m\n",
      "\u001b[0;31mIndexError\u001b[0m: list index out of range"
     ]
    },
    {
     "data": {
      "image/png": "[encoded data removed]",
      "text/plain": [
       "<Figure size 1080x1440 with 1 Axes>"
      ]
     },
     "metadata": {
      "needs_background": "light"
     },
     "output_type": "display_data"
    }
   ],
   "source": [
    "import matplotlib.pyplot as plt\n",
    "fig, ax = plt.subplots(figsize=(15, 20)) # set size\n",
    "ax = dendrogram(linkage_matrix, orientation=\"right\", labels=all_comments[0:1000]); #, labels=titles\n",
    "\n",
    "plt.tick_params(\\\n",
    "    axis= 'x',          # changes apply to the x-axis\n",
    "    which='both',      # both major and minor ticks are affected\n",
    "    bottom='false',      # ticks along the bottom edge are off\n",
    "    top='false',         # ticks along the top edge are off\n",
    "    labelbottom='false')\n",
    "\n",
    "plt.tight_layout() #show plot with tight layout\n",
    "\n",
    "#uncomment below to save figure\n",
    "plt.savefig('ward_clusters.png', dpi=200) #save figure as ward_clusters"
   ]
  },
  {
   "cell_type": "code",
   "execution_count": null,
   "metadata": {},
   "outputs": [],
   "source": []
  }
 ],
 "metadata": {
  "kernelspec": {
   "display_name": "Python 3",
   "language": "python",
   "name": "python3"
  },
  "language_info": {
   "codemirror_mode": {
    "name": "ipython",
    "version": 3
   },
   "file_extension": ".py",
   "mimetype": "text/x-python",
   "name": "python",
   "nbconvert_exporter": "python",
   "pygments_lexer": "ipython3",
   "version": "3.7.1"
  }
 },
 "nbformat": 4,
 "nbformat_minor": 2
}
